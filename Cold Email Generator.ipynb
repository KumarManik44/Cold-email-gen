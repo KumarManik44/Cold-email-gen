{
 "cells": [
  {
   "cell_type": "code",
   "execution_count": 5,
   "id": "4462b949-3f74-4396-889b-5ea189672444",
   "metadata": {},
   "outputs": [
    {
     "name": "stdout",
     "output_type": "stream",
     "text": [
      "The first person to land on the moon was Neil Armstrong. He stepped out of the lunar module Eagle and onto the moon's surface on July 20, 1969, as part of the Apollo 11 mission. Armstrong famously declared, \"That's one small step for man, one giant leap for mankind,\" as he became the first human to set foot on the moon.\n"
     ]
    }
   ],
   "source": [
    "from langchain_groq import ChatGroq\n",
    "\n",
    "llm = ChatGroq(\n",
    "    temperature=0, \n",
    "    groq_api_key='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', \n",
    "    model_name=\"llama-3.3-70b-versatile\"\n",
    ")\n",
    "\n",
    "response = llm.invoke(\"The first person to land on moon was ...\")\n",
    "print(response.content)"
   ]
  },
  {
   "cell_type": "code",
   "execution_count": 7,
   "id": "dfacec7b-2ede-478c-a2d8-b4aea969f73a",
   "metadata": {},
   "outputs": [
    {
     "name": "stderr",
     "output_type": "stream",
     "text": [
      "USER_AGENT environment variable not set, consider setting it to identify your requests.\n"
     ]
    },
    {
     "name": "stdout",
     "output_type": "stream",
     "text": [
      "\n",
      "\n",
      "\n",
      "\n",
      "\n",
      "\n",
      "\n",
      "\n",
      "\n",
      "\n",
      "\n",
      "\n",
      "\n",
      "\n",
      "\n",
      "\n",
      "\n",
      "\n",
      "\n",
      "\n",
      "\n",
      "Software Engineer II, ITC\n",
      "\n",
      "\n",
      "\n",
      "\n",
      "\n",
      "\n",
      "\n",
      "\n",
      "\n",
      "\n",
      "\n",
      "\n",
      "\n",
      "\n",
      "\n",
      "\n",
      "\n",
      "\n",
      "\n",
      "\n",
      "\n",
      "\n",
      "\n",
      "\n",
      "\n",
      "\n",
      "\n",
      "\n",
      "\n",
      "\n",
      "\n",
      "\n",
      "\n",
      "\n",
      "\n",
      "\n",
      "\n",
      "\n",
      "\n",
      "\n",
      "\n",
      "\n",
      "Skip to main content\n",
      "Open Virtual Assistant\n",
      "\n",
      "\n",
      "\n",
      "\n",
      "\n",
      "\n",
      "\n",
      "\n",
      "\n",
      "\n",
      "Home\n",
      "\n",
      "\n",
      "Career Areas\n",
      "\n",
      "\n",
      "Total Rewards\n",
      "\n",
      "\n",
      "Life@Nike\n",
      "\n",
      "\n",
      "Purpose\n",
      "\n",
      "\n",
      "\n",
      "\n",
      "\n",
      "\n",
      "\n",
      "\n",
      "\n",
      "\n",
      "Language\n",
      "\n",
      "\n",
      "\n",
      "\n",
      "\n",
      "Select a Language\n",
      "\n",
      "  Deutsch  \n",
      "  English  \n",
      "  Español (España)  \n",
      "  Español (América Latina)  \n",
      "  Français  \n",
      "  Italiano  \n",
      "  Nederlands  \n",
      "  Polski  \n",
      "  Tiếng Việt  \n",
      "  Türkçe  \n",
      "  简体中文  \n",
      "  繁體中文  \n",
      "  עִברִית  \n",
      "  한국어  \n",
      "  日本語  \n",
      "\n",
      "\n",
      "\n",
      "\n",
      "\n",
      "\n",
      "\n",
      "\n",
      "Careers\n",
      "\n",
      "\n",
      "\n",
      "\n",
      "\n",
      "\n",
      "\n",
      "\n",
      "\n",
      "\n",
      "\n",
      "\n",
      "\n",
      "\n",
      "\n",
      "\n",
      "\n",
      "\n",
      "Close Menu\n",
      "\n",
      "\n",
      "\n",
      "\n",
      "\n",
      "\n",
      "\n",
      "Career\n"
     ]
    }
   ],
   "source": [
    "from langchain_community.document_loaders import WebBaseLoader\n",
    "\n",
    "try:\n",
    "    loader = WebBaseLoader(\"https://careers.nike.com/software-engineer-ii-itc/job/R-49980\")\n",
    "    page_data = loader.load().pop().page_content\n",
    "    print(page_data[:500])  # Print first 500 chars to check\n",
    "except Exception as e:\n",
    "    print(f\"Error loading page: {e}\")"
   ]
  },
  {
   "cell_type": "code",
   "execution_count": 9,
   "id": "0a79182e-1824-4e41-8e34-3f07772104fe",
   "metadata": {},
   "outputs": [
    {
     "name": "stdout",
     "output_type": "stream",
     "text": [
      "Response type: <class 'str'>\n",
      "Extracted JSON: ```json\n",
      "{\n",
      "  \"role\": \"Software Engineer II, ITC\",\n",
      "  \"experience\": \"2+ years\",\n",
      "  \"skills\": [\n",
      "    \"Java\",\n",
      "    \"Spring Boot framework\",\n",
      "    \"Micro service architecture\",\n",
      "    \"Domain driven design\",\n",
      "    \"RESTful Services\",\n",
      "    \"Test Driven development\",\n",
      "    \"Junit\",\n",
      "    \"Mockito\",\n",
      "    \"Cucumber\",\n",
      "    \"Monitoring and tracing tools like Splunk, SignalFx, Kibana/Grafana\",\n",
      "    \"NoSQL data stores like Cassandra, DynamoDB, MongoDB\",\n",
      "    \"Relational data stores like MySQL, Oracle\",\n",
      "    \"Continuous integration, unit testing, static analysis, and automated integration tests\"\n",
      "  ],\n",
      "  \"description\": \"Design and deliver solutions for both digital and in-store platforms to bring best in class consumer experiences to our consumer worldwide. Contribute to the development of new features and identifying technical areas for improvement, proactively collaborating with product team members at Nike to design, develop, and deploy a highly scalable solution.\"\n",
      "}\n",
      "```\n"
     ]
    }
   ],
   "source": [
    "from langchain_core.prompts import PromptTemplate\n",
    "\n",
    "prompt_extract = PromptTemplate.from_template(\n",
    "        \"\"\"\n",
    "        ### SCRAPED TEXT FROM WEBSITE:\n",
    "        {page_data}\n",
    "        ### INSTRUCTION:\n",
    "        The scraped text is from the career's page of a website.\n",
    "        Your job is to extract the job postings and return them in JSON format containing the \n",
    "        following keys: `role`, `experience`, `skills` and `description`.\n",
    "        Only return the valid JSON.\n",
    "        ### VALID JSON (NO PREAMBLE):    \n",
    "        \"\"\"\n",
    ")\n",
    "\n",
    "try:\n",
    "    chain_extract = prompt_extract | llm \n",
    "    res = chain_extract.invoke(input={'page_data': page_data})\n",
    "    print(\"Response type:\", type(res.content))\n",
    "    print(\"Extracted JSON:\", res.content)\n",
    "except Exception as e:\n",
    "    print(f\"Error in extraction: {e}\")"
   ]
  },
  {
   "cell_type": "code",
   "execution_count": 11,
   "id": "19665fd1-e78e-4ade-8b51-c0223271e884",
   "metadata": {},
   "outputs": [
    {
     "name": "stdout",
     "output_type": "stream",
     "text": [
      "JSON parsed successfully!\n",
      "Type: <class 'dict'>\n",
      "Keys: ['role', 'experience', 'skills', 'description']\n",
      "\n",
      "Parsed data:\n",
      "{'role': 'Software Engineer II, ITC', 'experience': '2+ years', 'skills': ['Java', 'Spring Boot framework', 'Micro service architecture', 'Domain driven design', 'RESTful Services', 'Test Driven development', 'Junit', 'Mockito', 'Cucumber', 'Monitoring and tracing tools like Splunk, SignalFx, Kibana/Grafana', 'NoSQL data stores like Cassandra, DynamoDB, MongoDB', 'Relational data stores like MySQL, Oracle', 'Continuous integration, unit testing, static analysis, and automated integration tests'], 'description': 'Design and deliver solutions for both digital and in-store platforms to bring best in class consumer experiences to our consumer worldwide. Contribute to the development of new features and identifying technical areas for improvement, proactively collaborating with product team members at Nike to design, develop, and deploy a highly scalable solution.'}\n"
     ]
    }
   ],
   "source": [
    "from langchain_core.output_parsers import JsonOutputParser\n",
    "\n",
    "try:\n",
    "    json_parser = JsonOutputParser()\n",
    "    json_res = json_parser.parse(res.content)\n",
    "    \n",
    "    print(\"JSON parsed successfully!\")\n",
    "    print(\"Type:\", type(json_res))\n",
    "    print(\"Keys:\", list(json_res.keys()))\n",
    "    print(\"\\nParsed data:\")\n",
    "    print(json_res)\n",
    "    \n",
    "except Exception as e:\n",
    "    print(f\"JSON parsing error: {e}\")\n",
    "    print(\"Raw content:\", res.content[:200])"
   ]
  },
  {
   "cell_type": "code",
   "execution_count": 13,
   "id": "d001d339-a390-40a4-8597-37c68c2b9a68",
   "metadata": {},
   "outputs": [
    {
     "data": {
      "text/plain": [
       "dict"
      ]
     },
     "execution_count": 13,
     "metadata": {},
     "output_type": "execute_result"
    }
   ],
   "source": [
    "type(json_res)"
   ]
  },
  {
   "cell_type": "code",
   "execution_count": 15,
   "id": "222994b3-cb1f-4c8d-985d-773cb3bf6247",
   "metadata": {},
   "outputs": [
    {
     "data": {
      "text/html": [
       "<div>\n",
       "<style scoped>\n",
       "    .dataframe tbody tr th:only-of-type {\n",
       "        vertical-align: middle;\n",
       "    }\n",
       "\n",
       "    .dataframe tbody tr th {\n",
       "        vertical-align: top;\n",
       "    }\n",
       "\n",
       "    .dataframe thead th {\n",
       "        text-align: right;\n",
       "    }\n",
       "</style>\n",
       "<table border=\"1\" class=\"dataframe\">\n",
       "  <thead>\n",
       "    <tr style=\"text-align: right;\">\n",
       "      <th></th>\n",
       "      <th>Techstack</th>\n",
       "      <th>Links</th>\n",
       "    </tr>\n",
       "  </thead>\n",
       "  <tbody>\n",
       "    <tr>\n",
       "      <th>0</th>\n",
       "      <td>React, Node.js, MongoDB</td>\n",
       "      <td>https://example.com/react-portfolio</td>\n",
       "    </tr>\n",
       "    <tr>\n",
       "      <th>1</th>\n",
       "      <td>Angular,.NET, SQL Server</td>\n",
       "      <td>https://example.com/angular-portfolio</td>\n",
       "    </tr>\n",
       "    <tr>\n",
       "      <th>2</th>\n",
       "      <td>Vue.js, Ruby on Rails, PostgreSQL</td>\n",
       "      <td>https://example.com/vue-portfolio</td>\n",
       "    </tr>\n",
       "    <tr>\n",
       "      <th>3</th>\n",
       "      <td>Python, Django, MySQL</td>\n",
       "      <td>https://example.com/python-portfolio</td>\n",
       "    </tr>\n",
       "    <tr>\n",
       "      <th>4</th>\n",
       "      <td>Java, Spring Boot, Oracle</td>\n",
       "      <td>https://example.com/java-portfolio</td>\n",
       "    </tr>\n",
       "  </tbody>\n",
       "</table>\n",
       "</div>"
      ],
      "text/plain": [
       "                           Techstack                                  Links\n",
       "0            React, Node.js, MongoDB    https://example.com/react-portfolio\n",
       "1           Angular,.NET, SQL Server  https://example.com/angular-portfolio\n",
       "2  Vue.js, Ruby on Rails, PostgreSQL      https://example.com/vue-portfolio\n",
       "3              Python, Django, MySQL   https://example.com/python-portfolio\n",
       "4          Java, Spring Boot, Oracle     https://example.com/java-portfolio"
      ]
     },
     "execution_count": 15,
     "metadata": {},
     "output_type": "execute_result"
    }
   ],
   "source": [
    "import pandas as pd\n",
    "\n",
    "df = pd.read_csv(\"my_portfolio.csv\")\n",
    "df.head()"
   ]
  },
  {
   "cell_type": "code",
   "execution_count": 17,
   "id": "f77f3b93-e48a-4541-bf30-159652a0252b",
   "metadata": {},
   "outputs": [
    {
     "name": "stdout",
     "output_type": "stream",
     "text": [
      "Collection count before: 0\n",
      "Adding portfolio data to ChromaDB...\n"
     ]
    },
    {
     "name": "stderr",
     "output_type": "stream",
     "text": [
      "/Users/himanshuraj/.cache/chroma/onnx_models/all-MiniLM-L6-v2/onnx.tar.gz: 100%|\n"
     ]
    },
    {
     "name": "stdout",
     "output_type": "stream",
     "text": [
      "Added 20 portfolio items to ChromaDB\n",
      "Final collection count: 20\n"
     ]
    }
   ],
   "source": [
    "import uuid\n",
    "import chromadb\n",
    "\n",
    "try:\n",
    "    client = chromadb.PersistentClient('vectorstore')\n",
    "    collection = client.get_or_create_collection(name=\"portfolio\")\n",
    "    \n",
    "    print(f\"Collection count before: {collection.count()}\")\n",
    "    \n",
    "    if not collection.count():\n",
    "        print(\"Adding portfolio data to ChromaDB...\")\n",
    "        for index, row in df.iterrows():\n",
    "            collection.add(\n",
    "                documents=row[\"Techstack\"],\n",
    "                metadatas={\"links\": row[\"Links\"]},\n",
    "                ids=[str(uuid.uuid4())]\n",
    "            )\n",
    "        print(f\"Added {len(df)} portfolio items to ChromaDB\")\n",
    "    else:\n",
    "        print(\"Collection already populated\")\n",
    "        \n",
    "    print(f\"Final collection count: {collection.count()}\")\n",
    "    \n",
    "except Exception as e:\n",
    "    print(f\"ChromaDB error: {e}\")"
   ]
  },
  {
   "cell_type": "code",
   "execution_count": 25,
   "id": "b32af67d-bd4b-46a0-9046-b8f16266f35d",
   "metadata": {},
   "outputs": [
    {
     "data": {
      "text/plain": [
       "[[{'links': 'https://example.com/java-portfolio'},\n",
       "  {'links': 'https://example.com/android-portfolio'}],\n",
       " [{'links': 'https://example.com/kotlin-backend-portfolio'},\n",
       "  {'links': 'https://example.com/java-portfolio'}],\n",
       " [{'links': 'https://example.com/android-portfolio'},\n",
       "  {'links': 'https://example.com/xamarin-portfolio'}],\n",
       " [{'links': 'https://example.com/kotlin-backend-portfolio'},\n",
       "  {'links': 'https://example.com/android-portfolio'}],\n",
       " [{'links': 'https://example.com/wordpress-portfolio'},\n",
       "  {'links': 'https://example.com/kotlin-backend-portfolio'}],\n",
       " [{'links': 'https://example.com/devops-portfolio'},\n",
       "  {'links': 'https://example.com/ml-python-portfolio'}],\n",
       " [{'links': 'https://example.com/java-portfolio'},\n",
       "  {'links': 'https://example.com/kotlin-backend-portfolio'}],\n",
       " [{'links': 'https://example.com/java-portfolio'},\n",
       "  {'links': 'https://example.com/android-portfolio'}],\n",
       " [{'links': 'https://example.com/vue-portfolio'},\n",
       "  {'links': 'https://example.com/devops-portfolio'}],\n",
       " [{'links': 'https://example.com/flutter-portfolio'},\n",
       "  {'links': 'https://example.com/kotlin-android-portfolio'}],\n",
       " [{'links': 'https://example.com/react-portfolio'},\n",
       "  {'links': 'https://example.com/react-native-portfolio'}],\n",
       " [{'links': 'https://example.com/magento-portfolio'},\n",
       "  {'links': 'https://example.com/wordpress-portfolio'}],\n",
       " [{'links': 'https://example.com/devops-portfolio'},\n",
       "  {'links': 'https://example.com/ml-python-portfolio'}]]"
      ]
     },
     "execution_count": 25,
     "metadata": {},
     "output_type": "execute_result"
    }
   ],
   "source": [
    "links = collection.query(query_texts=json_res['skills'], n_results=2).get('metadatas', [])\n",
    "links"
   ]
  },
  {
   "cell_type": "code",
   "execution_count": 29,
   "id": "9d9aef1a-3f57-41bd-833e-92bf1900d2a9",
   "metadata": {},
   "outputs": [
    {
     "data": {
      "text/plain": [
       "['Java',\n",
       " 'Spring Boot framework',\n",
       " 'Micro service architecture',\n",
       " 'Domain driven design',\n",
       " 'RESTful Services',\n",
       " 'Test Driven development',\n",
       " 'Junit',\n",
       " 'Mockito',\n",
       " 'Cucumber',\n",
       " 'Monitoring and tracing tools like Splunk, SignalFx, Kibana/Grafana',\n",
       " 'NoSQL data stores like Cassandra, DynamoDB, MongoDB',\n",
       " 'Relational data stores like MySQL, Oracle',\n",
       " 'Continuous integration, unit testing, static analysis, and automated integration tests']"
      ]
     },
     "execution_count": 29,
     "metadata": {},
     "output_type": "execute_result"
    }
   ],
   "source": [
    "job = json_res\n",
    "job['skills']"
   ]
  },
  {
   "cell_type": "code",
   "execution_count": 31,
   "id": "e3251b7c-4edd-471b-9741-6cc97face708",
   "metadata": {},
   "outputs": [
    {
     "name": "stdout",
     "output_type": "stream",
     "text": [
      "✅ Cold email generated successfully!\n",
      "\n",
      "==================================================\n",
      "GENERATED COLD EMAIL:\n",
      "==================================================\n",
      "Subject: Expert Software Engineering Solutions for Nike's Digital Transformation\n",
      "\n",
      "Dear Hiring Manager,\n",
      "\n",
      "I came across the job description for a Software Engineer II, ITC at Nike, and I'm excited to introduce AtliQ, an AI & Software Consulting company that can help you design and deliver solutions for both digital and in-store platforms. With our expertise in Java, Spring Boot framework, Microservice architecture, and Domain-driven design, we can contribute to the development of new features and identify technical areas for improvement, ensuring a highly scalable solution.\n",
      "\n",
      "Our team at AtliQ has extensive experience in developing scalable and efficient software solutions using RESTful Services, Test-Driven Development, Junit, Mockito, and Cucumber. We're also well-versed in monitoring and tracing tools like Splunk, SignalFx, and Kibana/Grafana. Our expertise in NoSQL data stores like Cassandra, DynamoDB, and MongoDB, as well as relational data stores like MySQL and Oracle, can help you make informed decisions about your data management.\n",
      "\n",
      "At AtliQ, we follow a rigorous approach to Continuous Integration, unit testing, static analysis, and automated integration tests, ensuring that our solutions are reliable, efficient, and meet the highest standards of quality. Our portfolio includes successful projects in Java (https://example.com/java-portfolio), Kotlin Backend (https://example.com/kotlin-backend-portfolio), and DevOps (https://example.com/devops-portfolio), demonstrating our capability to deliver complex software solutions.\n",
      "\n",
      "We'd love to discuss how our expertise can help Nike achieve its goals in digital transformation. Please feel free to reach out to me to schedule a call to explore how AtliQ can support your team.\n",
      "\n",
      "Best regards,\n",
      "\n",
      "Mohan\n",
      "Business Development Executive\n",
      "AtliQ\n"
     ]
    }
   ],
   "source": [
    "prompt_email = PromptTemplate.from_template(\n",
    "        \"\"\"\n",
    "        ### JOB DESCRIPTION:\n",
    "        {job_description}\n",
    "        \n",
    "        ### INSTRUCTION:\n",
    "        You are Mohan, a business development executive at AtliQ. AtliQ is an AI & Software Consulting company dedicated to facilitating\n",
    "        the seamless integration of business processes through automated tools. \n",
    "        Over our experience, we have empowered numerous enterprises with tailored solutions, fostering scalability, \n",
    "        process optimization, cost reduction, and heightened overall efficiency. \n",
    "        Your job is to write a cold email to the client regarding the job mentioned above describing the capability of AtliQ \n",
    "        in fulfilling their needs.\n",
    "        Also add the most relevant ones from the following links to showcase Atliq's portfolio: {link_list}\n",
    "        Remember you are Mohan, BDE at AtliQ. \n",
    "        Do not provide a preamble.\n",
    "        ### EMAIL (NO PREAMBLE):\n",
    "        \n",
    "        \"\"\"\n",
    "        )\n",
    "\n",
    "try:\n",
    "    chain_email = prompt_email | llm\n",
    "    res = chain_email.invoke({\"job_description\": str(job), \"link_list\": links})\n",
    "    print(\"✅ Cold email generated successfully!\")\n",
    "    print(\"\\n\" + \"=\"*50)\n",
    "    print(\"GENERATED COLD EMAIL:\")\n",
    "    print(\"=\"*50)\n",
    "    print(res.content)\n",
    "except Exception as e:\n",
    "    print(f\"❌ Email generation error: {e}\")"
   ]
  },
  {
   "cell_type": "code",
   "execution_count": null,
   "id": "d42c82b0-9b36-4b0f-a7a2-9d1e899d5750",
   "metadata": {},
   "outputs": [],
   "source": []
  }
 ],
 "metadata": {
  "kernelspec": {
   "display_name": "Python [conda env:base]",
   "language": "python",
   "name": "conda-base-py"
  },
  "language_info": {
   "codemirror_mode": {
    "name": "ipython",
    "version": 3
   },
   "file_extension": ".py",
   "mimetype": "text/x-python",
   "name": "python",
   "nbconvert_exporter": "python",
   "pygments_lexer": "ipython3",
   "version": "3.12.7"
  }
 },
 "nbformat": 4,
 "nbformat_minor": 5
}
